{
  "cells": [
    {
      "cell_type": "markdown",
      "metadata": {
        "id": "B20e2UtRx9rY"
      },
      "source": [
        "\n",
        "# DS_ONE"
      ]
    },
    {
      "cell_type": "code",
      "source": [
        "!pip install pytubefix -q\n",
        "!pip install yt_dlp ffmpeg-python torch whisper requests nest_asyncio -q\n",
        "!pip install yt-dlp ffmpeg-python pydub requests nest_asyncio -q"
      ],
      "metadata": {
        "colab": {
          "base_uri": "https://localhost:8080/"
        },
        "id": "h1RQvtxkfdu6",
        "outputId": "43c75d27-36d3-4647-dc90-2d2fbfa5e682"
      },
      "execution_count": 2,
      "outputs": [
        {
          "output_type": "stream",
          "name": "stdout",
          "text": [
            "\u001b[2K   \u001b[90m━━━━━━━━━━━━━━━━━━━━━━━━━━━━━━━━━━━━━━━━\u001b[0m \u001b[32m730.7/730.7 kB\u001b[0m \u001b[31m7.7 MB/s\u001b[0m eta \u001b[36m0:00:00\u001b[0m\n",
            "\u001b[2K     \u001b[90m━━━━━━━━━━━━━━━━━━━━━━━━━━━━━━━━━━━━━━━━\u001b[0m \u001b[32m172.1/172.1 kB\u001b[0m \u001b[31m3.0 MB/s\u001b[0m eta \u001b[36m0:00:00\u001b[0m\n",
            "\u001b[2K     \u001b[90m━━━━━━━━━━━━━━━━━━━━━━━━━━━━━━━━━━━━━━━━\u001b[0m \u001b[32m42.8/42.8 kB\u001b[0m \u001b[31m2.3 MB/s\u001b[0m eta \u001b[36m0:00:00\u001b[0m\n",
            "\u001b[?25h  Preparing metadata (setup.py) ... \u001b[?25l\u001b[?25hdone\n",
            "\u001b[2K   \u001b[90m━━━━━━━━━━━━━━━━━━━━━━━━━━━━━━━━━━━━━━━━\u001b[0m \u001b[32m3.2/3.2 MB\u001b[0m \u001b[31m44.1 MB/s\u001b[0m eta \u001b[36m0:00:00\u001b[0m\n",
            "\u001b[2K   \u001b[90m━━━━━━━━━━━━━━━━━━━━━━━━━━━━━━━━━━━━━━━━\u001b[0m \u001b[32m363.4/363.4 MB\u001b[0m \u001b[31m4.3 MB/s\u001b[0m eta \u001b[36m0:00:00\u001b[0m\n",
            "\u001b[2K   \u001b[90m━━━━━━━━━━━━━━━━━━━━━━━━━━━━━━━━━━━━━━━━\u001b[0m \u001b[32m13.8/13.8 MB\u001b[0m \u001b[31m84.7 MB/s\u001b[0m eta \u001b[36m0:00:00\u001b[0m\n",
            "\u001b[2K   \u001b[90m━━━━━━━━━━━━━━━━━━━━━━━━━━━━━━━━━━━━━━━━\u001b[0m \u001b[32m24.6/24.6 MB\u001b[0m \u001b[31m70.1 MB/s\u001b[0m eta \u001b[36m0:00:00\u001b[0m\n",
            "\u001b[2K   \u001b[90m━━━━━━━━━━━━━━━━━━━━━━━━━━━━━━━━━━━━━━━━\u001b[0m \u001b[32m883.7/883.7 kB\u001b[0m \u001b[31m40.0 MB/s\u001b[0m eta \u001b[36m0:00:00\u001b[0m\n",
            "\u001b[2K   \u001b[90m━━━━━━━━━━━━━━━━━━━━━━━━━━━━━━━━━━━━━━━━\u001b[0m \u001b[32m664.8/664.8 MB\u001b[0m \u001b[31m841.6 kB/s\u001b[0m eta \u001b[36m0:00:00\u001b[0m\n",
            "\u001b[2K   \u001b[90m━━━━━━━━━━━━━━━━━━━━━━━━━━━━━━━━━━━━━━━━\u001b[0m \u001b[32m211.5/211.5 MB\u001b[0m \u001b[31m6.3 MB/s\u001b[0m eta \u001b[36m0:00:00\u001b[0m\n",
            "\u001b[2K   \u001b[90m━━━━━━━━━━━━━━━━━━━━━━━━━━━━━━━━━━━━━━━━\u001b[0m \u001b[32m56.3/56.3 MB\u001b[0m \u001b[31m12.2 MB/s\u001b[0m eta \u001b[36m0:00:00\u001b[0m\n",
            "\u001b[2K   \u001b[90m━━━━━━━━━━━━━━━━━━━━━━━━━━━━━━━━━━━━━━━━\u001b[0m \u001b[32m127.9/127.9 MB\u001b[0m \u001b[31m7.4 MB/s\u001b[0m eta \u001b[36m0:00:00\u001b[0m\n",
            "\u001b[2K   \u001b[90m━━━━━━━━━━━━━━━━━━━━━━━━━━━━━━━━━━━━━━━━\u001b[0m \u001b[32m207.5/207.5 MB\u001b[0m \u001b[31m4.6 MB/s\u001b[0m eta \u001b[36m0:00:00\u001b[0m\n",
            "\u001b[2K   \u001b[90m━━━━━━━━━━━━━━━━━━━━━━━━━━━━━━━━━━━━━━━━\u001b[0m \u001b[32m21.1/21.1 MB\u001b[0m \u001b[31m72.5 MB/s\u001b[0m eta \u001b[36m0:00:00\u001b[0m\n",
            "\u001b[?25h  Building wheel for whisper (setup.py) ... \u001b[?25l\u001b[?25hdone\n"
          ]
        }
      ]
    },
    {
      "cell_type": "code",
      "source": [
        "# Библиотеки\n",
        "import os\n",
        "import sys\n",
        "import json\n",
        "import math\n",
        "import time\n",
        "import re\n",
        "import ffmpeg\n",
        "import requests\n",
        "import yt_dlp\n",
        "from pydub import AudioSegment\n",
        "from IPython.display import clear_output\n",
        "import nest_asyncio\n",
        "from pathlib import Path\n",
        "from typing import List, Dict\n",
        "\n",
        "nest_asyncio.apply()"
      ],
      "metadata": {
        "id": "v2MY4vvtayWO"
      },
      "execution_count": null,
      "outputs": []
    },
    {
      "cell_type": "code",
      "source": [
        "# Монтирование Google Drive\n",
        "from google.colab import drive\n",
        "drive.mount('/content/drive', force_remount=True)"
      ],
      "metadata": {
        "id": "IXnPojRhayUH"
      },
      "execution_count": null,
      "outputs": []
    },
    {
      "cell_type": "code",
      "source": [
        "# Конфигурация Deep Infra\n",
        "DEEPINFRA_API_KEY = \"9kScTQSpFJCd6OdxblR8bHjw3iWSPZkV\"\n",
        "WHISPER_API_URL = \"https://api.deepinfra.com/v1/inference/openai/whisper-large\"\n",
        "LLM_API_URL = \"https://api.deepinfra.com/v1/inference/meta-llama/Meta-Llama-3-70B-Instruct\"\n",
        "\n",
        "# Путь к cookies файлу\n",
        "COOKIES_PATH = \"/content/drive/MyDrive/ds_one/cookies.txt\""
      ],
      "metadata": {
        "id": "kyfywA-qayRu"
      },
      "execution_count": null,
      "outputs": []
    },
    {
      "cell_type": "code",
      "source": [
        "class Config:\n",
        "    DRIVE_PATH = \"/content/drive/MyDrive/ds_one\"    # Папка на Google Drive для результатов\n",
        "    TEMP_DIR = \"/content/temp\"                      # Временная папка\n",
        "    FRAME_RATE = 18                                 # Сколько кадров/сек при сохранении\n",
        "    MAX_AUDIO_SIZE_MB = 5                           # Размер одного чанка (уменьшаем для долгих видео)\n",
        "    AUDIO_BITRATE = '128k'\n",
        "    SAMPLE_RATE = 16000\n",
        "    TRANSCRIBE_RETRIES = 2                          # Повторные попытки при таймауте\n",
        "    TRANSCRIBE_TIMEOUT = 120                        # Секунд ожидания ответа Whisper\n",
        "\n",
        "    @classmethod\n",
        "    def setup(cls):\n",
        "        os.makedirs(cls.DRIVE_PATH, exist_ok=True)\n",
        "        os.makedirs(cls.TEMP_DIR, exist_ok=True)\n",
        "\n",
        "Config.setup()"
      ],
      "metadata": {
        "id": "3xKUGKZYayPK"
      },
      "execution_count": null,
      "outputs": []
    },
    {
      "cell_type": "code",
      "source": [
        "def convert_to_mp3(input_path: str) -> str:\n",
        "    \"\"\"Конвертация аудио из WAV в MP3\"\"\"\n",
        "    output_path = Path(input_path).with_suffix(\".mp3\")\n",
        "    (\n",
        "        ffmpeg\n",
        "        .input(input_path)\n",
        "        .output(\n",
        "            str(output_path),\n",
        "            acodec='libmp3lame',\n",
        "            audio_bitrate=Config.AUDIO_BITRATE,\n",
        "            ar=str(Config.SAMPLE_RATE)\n",
        "        )\n",
        "        .overwrite_output()\n",
        "        .run(quiet=True)\n",
        "    )\n",
        "    return str(output_path)"
      ],
      "metadata": {
        "id": "OLy4FogXayF2"
      },
      "execution_count": null,
      "outputs": []
    },
    {
      "cell_type": "code",
      "source": [
        "def split_audio(input_path: str) -> List[str]:\n",
        "    \"\"\"\n",
        "    Разделение аудио на чанки по MAX_AUDIO_SIZE_MB,\n",
        "    чтобы снизить риск таймаута при больших файлах\n",
        "    \"\"\"\n",
        "    chunk_size = Config.MAX_AUDIO_SIZE_MB * 1024 * 1024\n",
        "    file_size = os.path.getsize(input_path)\n",
        "\n",
        "    if file_size <= chunk_size:\n",
        "        return [input_path]\n",
        "\n",
        "    audio = AudioSegment.from_file(input_path)\n",
        "    duration_ms = len(audio)\n",
        "    chunk_duration_ms = int((chunk_size / file_size) * duration_ms)\n",
        "\n",
        "    chunks = []\n",
        "    for i in range(0, math.ceil(duration_ms / chunk_duration_ms)):\n",
        "        start = i * chunk_duration_ms\n",
        "        end = min((i+1) * chunk_duration_ms, duration_ms)\n",
        "        chunk = audio[start:end]\n",
        "        chunk_path = Path(input_path).with_name(f\"{Path(input_path).stem}_part{i}.mp3\")\n",
        "        chunk.export(chunk_path, format=\"mp3\", bitrate=Config.AUDIO_BITRATE)\n",
        "        chunks.append(str(chunk_path))\n",
        "\n",
        "    return chunks"
      ],
      "metadata": {
        "id": "G5D-cd2lbHDU"
      },
      "execution_count": null,
      "outputs": []
    },
    {
      "cell_type": "code",
      "source": [
        "def transcribe_chunk(chunk_path: str) -> str:\n",
        "    \"\"\"Отправка одного аудио-фрагмента на DeepInfra Whisper\"\"\"\n",
        "    headers = {\"Authorization\": f\"Bearer {DEEPINFRA_API_KEY}\"}\n",
        "    for attempt in range(Config.TRANSCRIBE_RETRIES):\n",
        "        try:\n",
        "            with open(chunk_path, \"rb\") as f:\n",
        "                response = requests.post(\n",
        "                    WHISPER_API_URL,\n",
        "                    headers=headers,\n",
        "                    files={\"audio\": f},\n",
        "                    timeout=Config.TRANSCRIBE_TIMEOUT\n",
        "                )\n",
        "            if response.status_code == 200:\n",
        "                # Успешно\n",
        "                return response.json().get(\"text\", \"\")\n",
        "            else:\n",
        "                print(f\"Ошибка транскрибации (статус {response.status_code}): {response.text}\")\n",
        "                return \"\"\n",
        "        except requests.exceptions.ReadTimeout:\n",
        "            print(f\"⏱ Таймаут при транскрибации {Path(chunk_path).name}. Повтор {attempt+1}/{Config.TRANSCRIBE_RETRIES}\")\n",
        "            if attempt < Config.TRANSCRIBE_RETRIES - 1:\n",
        "                time.sleep(5)\n",
        "                continue\n",
        "            else:\n",
        "                print(\"❌ Превышено количество попыток.\")\n",
        "                return \"\"\n",
        "        except Exception as e:\n",
        "            print(f\"❌ Ошибка при транскрибации {Path(chunk_path).name}: {e}\")\n",
        "            return \"\"\n",
        "    return \"\""
      ],
      "metadata": {
        "id": "7eo1doKrbHBX"
      },
      "execution_count": null,
      "outputs": []
    },
    {
      "cell_type": "code",
      "source": [
        "def transcribe_audio(audio_path: str) -> str:\n",
        "    \"\"\"\n",
        "    Основная транскрибация:\n",
        "      1. WAV -> MP3\n",
        "      2. Разбивка на чанки\n",
        "      3. Отправка каждого чанка на Whisper\n",
        "    \"\"\"\n",
        "    mp3_path = convert_to_mp3(audio_path)\n",
        "    chunks = split_audio(mp3_path)\n",
        "    full_text_list = []\n",
        "    for i, chunk_path in enumerate(chunks, 1):\n",
        "        print(f\"🔊 Транскрибируем фрагмент {i}/{len(chunks)}: {Path(chunk_path).name}\")\n",
        "        text = transcribe_chunk(chunk_path)\n",
        "        full_text_list.append(text)\n",
        "        os.remove(chunk_path)\n",
        "    return \" \".join(full_text_list)"
      ],
      "metadata": {
        "id": "FjEF1dplbG_R"
      },
      "execution_count": null,
      "outputs": []
    },
    {
      "cell_type": "code",
      "source": [
        "def extract_json_array(text: str) -> List[Dict]:\n",
        "    \"\"\"\n",
        "    Удаляем код-блоки (```...```),\n",
        "    ищем JSON-массив между первой '[' и последней ']'.\n",
        "    \"\"\"\n",
        "    text_no_code = re.sub(r'```.*?```', '', text, flags=re.DOTALL)\n",
        "    start_idx = text_no_code.find('[')\n",
        "    end_idx = text_no_code.rfind(']')\n",
        "    if start_idx == -1 or end_idx == -1 or start_idx > end_idx:\n",
        "        raise ValueError(\"Не найден валидный JSON-массив в ответе LLM.\")\n",
        "    array_str = text_no_code[start_idx:end_idx+1].strip()\n",
        "    return json.loads(array_str)\n",
        "\n",
        "def process_transcription(full_text: str) -> List[Dict]:\n",
        "    \"\"\"\n",
        "    Анализ текста через LLM -> JSON с key= [start_time, end_time, text]\n",
        "    \"\"\"\n",
        "    prompt = f\"\"\"\n",
        "You are a sports analysis assistant. Analyze the following transcript of a basketball match and extract only the moments when a foul occurred.\n",
        "Return a valid JSON array of objects. Each object must have exactly these keys:\n",
        "  \"start_time\": a number representing the start time in seconds,\n",
        "  \"end_time\": a number representing the end time in seconds,\n",
        "  \"text\": a string describing the foul.\n",
        "Do not include any additional text, commentary, or markdown formatting. Your entire answer must be a valid JSON array.\n",
        "\n",
        "Transcript:\n",
        "{full_text}\n",
        "\"\"\"\n",
        "    headers = {\n",
        "        \"Authorization\": f\"Bearer {DEEPINFRA_API_KEY}\",\n",
        "        \"Content-Type\": \"application/json\"\n",
        "    }\n",
        "    payload = {\n",
        "        \"model\": \"meta-llama/Meta-Llama-3-70B-Instruct\",\n",
        "        \"input\": prompt,\n",
        "        \"temperature\": 0.3,\n",
        "        \"max_tokens\": 2000\n",
        "    }\n",
        "    response = requests.post(LLM_API_URL, headers=headers, json=payload)\n",
        "    if response.status_code != 200:\n",
        "        print(f\"Ошибка LLM: {response.status_code}\")\n",
        "        print(response.text)\n",
        "        return []\n",
        "    try:\n",
        "        data = response.json()\n",
        "        print(\"LLM API response:\", data)\n",
        "        if \"results\" in data and isinstance(data[\"results\"], list) and len(data[\"results\"]) > 0:\n",
        "            result = data[\"results\"][0].get(\"generated_text\", \"\")\n",
        "        elif \"choices\" in data:\n",
        "            result = data[\"choices\"][0][\"message\"][\"content\"]\n",
        "        elif \"result\" in data:\n",
        "            result = data[\"result\"]\n",
        "        elif \"output\" in data:\n",
        "            result = data[\"output\"]\n",
        "        else:\n",
        "            raise KeyError(\"Нет ключа 'results', 'choices', 'result' или 'output' в ответе\")\n",
        "        return extract_json_array(result)\n",
        "    except Exception as e:\n",
        "        print(f\"Ошибка парсинга: {e}\")\n",
        "        return []"
      ],
      "metadata": {
        "id": "HjZWL1zBbG8_"
      },
      "execution_count": null,
      "outputs": []
    },
    {
      "cell_type": "code",
      "source": [
        "def download_video(url: str) -> str:\n",
        "    \"\"\"Скачивание видео с YouTube (обязательно с cookies)\"\"\"\n",
        "    print(\"🔄 Скачиваем видео...\")\n",
        "    ydl_opts = {\n",
        "        'format': 'bestvideo+bestaudio/best',\n",
        "        'outtmpl': os.path.join(Config.TEMP_DIR, '%(title)s.%(ext)s'),\n",
        "        'merge_output_format': 'mp4',\n",
        "        'quiet': True,\n",
        "    }\n",
        "    if os.path.exists(COOKIES_PATH):\n",
        "        ydl_opts['cookies'] = COOKIES_PATH\n",
        "    else:\n",
        "        print(\"⚠ Файл cookies не найден. Нужен cookies.txt для авторизации на YouTube (p.s. нужно расширение в Сhrome)\")\n",
        "    try:\n",
        "        with yt_dlp.YoutubeDL(ydl_opts) as ydl:\n",
        "            info = ydl.extract_info(url, download=True)\n",
        "            return ydl.prepare_filename(info)\n",
        "    except Exception as e:\n",
        "        print(f\"❌ Ошибка скачивания: {e}\")\n",
        "        sys.exit(1)"
      ],
      "metadata": {
        "id": "VFiF_JwrbG2K"
      },
      "execution_count": null,
      "outputs": []
    },
    {
      "cell_type": "code",
      "source": [
        "def extract_audio(video_path: str) -> str:\n",
        "    \"\"\"Извлечение аудио из видео (wav)\"\"\"\n",
        "    audio_path = Path(video_path).with_suffix('.wav')\n",
        "    (\n",
        "        ffmpeg\n",
        "        .input(video_path)\n",
        "        .output(str(audio_path), acodec='pcm_s16le', ac=1, ar=Config.SAMPLE_RATE)\n",
        "        .overwrite_output()\n",
        "        .run(quiet=True)\n",
        "    )\n",
        "    return str(audio_path)"
      ],
      "metadata": {
        "id": "LoWL5NoObaIT"
      },
      "execution_count": null,
      "outputs": []
    },
    {
      "cell_type": "code",
      "source": [
        "def extract_frames_segment(video_path: str, start: float, end: float, idx: int):\n",
        "    \"\"\"\n",
        "    Для каждого фола: создаём папку \"foul_{idx}/frames\" и сохраняем\n",
        "    кадры из исходного видео на интервале [start, end].\n",
        "    \"\"\"\n",
        "    # Создаём папку для данного фола\n",
        "    foul_dir = Path(Config.DRIVE_PATH) / f\"foul_{idx}\"\n",
        "    frames_dir = foul_dir / \"frames\"\n",
        "    frames_dir.mkdir(parents=True, exist_ok=True)\n",
        "\n",
        "    try:\n",
        "        (\n",
        "            ffmpeg\n",
        "            .input(video_path, ss=start, to=end)\n",
        "            .output(str(frames_dir / \"frame_%04d.jpg\"), r=Config.FRAME_RATE)\n",
        "            .overwrite_output()\n",
        "            .run(quiet=True)\n",
        "        )\n",
        "        print(f\"✅ Кадры фола #{idx} ({start}-{end}с) сохранены в {frames_dir}\")\n",
        "    except ffmpeg.Error as e:\n",
        "        print(f\"❌ Ошибка извлечения кадров для фола #{idx}: {e.stderr.decode()}\")"
      ],
      "metadata": {
        "id": "LkA4spz-bepo"
      },
      "execution_count": null,
      "outputs": []
    },
    {
      "cell_type": "code",
      "source": [
        "def process_video(url: str):\n",
        "    \"\"\"\n",
        "    Основной процесс:\n",
        "      1. Скачиваем и извлекаем аудио\n",
        "      2. Транскрибируем\n",
        "      3. LLM -> JSON (список фолов)\n",
        "      4. Для каждого фола: извлекаем кадры (без сохранения .mp4)\n",
        "    \"\"\"\n",
        "    clear_output()\n",
        "    print(\"🚀 Начало обработки...\")\n",
        "    try:\n",
        "        # 1. Скачиваем видео\n",
        "        video_path = download_video(url)\n",
        "        print(f\"✅ Видео скачано: {Path(video_path).name}\")\n",
        "\n",
        "        # 2. Извлечение аудио\n",
        "        audio_path = extract_audio(video_path)\n",
        "        print(\"✅ Аудио извлечено\")\n",
        "\n",
        "        # 3. Транскрибация\n",
        "        full_text = transcribe_audio(audio_path)\n",
        "        # Удаляем временный аудио-файл\n",
        "        os.remove(audio_path)\n",
        "        print(\"✅ Транскрибация завершена\")\n",
        "\n",
        "        # 4. Анализ текста через LLM\n",
        "        fouls = process_transcription(full_text)\n",
        "        print(f\"🎯 Найдено фолов: {len(fouls)}\")\n",
        "\n",
        "        # 5. извлекаем кадры из каждого фолового интервала\n",
        "        for i, foul in enumerate(fouls, start=1):\n",
        "            start_time = foul.get(\"start_time\", 0)\n",
        "            end_time   = foul.get(\"end_time\", 0)\n",
        "            text       = foul.get(\"text\", \"\")\n",
        "\n",
        "            print(f\"\\n⚡ Фол #{i}: {start_time}-{end_time} с\\n📝 {text}\")\n",
        "            extract_frames_segment(video_path, start_time, end_time, i)\n",
        "\n",
        "        print(f\"\\n✅ Готово! Кадры сохранены в: {Config.DRIVE_PATH}\")\n",
        "\n",
        "    except Exception as e:\n",
        "        print(f\"🔥 Ошибка: {e}\")\n",
        "        sys.exit(1)"
      ],
      "metadata": {
        "id": "jWq16U0Ubee8"
      },
      "execution_count": null,
      "outputs": []
    },
    {
      "cell_type": "code",
      "source": [
        "if __name__ == \"__main__\":\n",
        "    # URL нашего видео\n",
        "    process_video(\"https://youtu.be/ufOiMggc6pw?si=Hj0LN_Rwknk29OOw\")\n"
      ],
      "metadata": {
        "colab": {
          "base_uri": "https://localhost:8080/"
        },
        "id": "SOV_qR1cOo7D",
        "outputId": "8a717ee3-3853-4c74-cd07-5befd28f243b"
      },
      "execution_count": 12,
      "outputs": [
        {
          "output_type": "stream",
          "name": "stdout",
          "text": [
            "🚀 Начало обработки...\n",
            "🔄 Скачиваем видео...\n",
            "✅ Видео скачано: NBA ＂Hardest Foul＂ MOMENTS.mp4\n",
            "✅ Аудио извлечено\n",
            "🔊 Транскрибируем фрагмент 1/2: NBA ＂Hardest Foul＂ MOMENTS_part0.mp3\n",
            "🔊 Транскрибируем фрагмент 2/2: NBA ＂Hardest Foul＂ MOMENTS_part1.mp3\n",
            "✅ Транскрибация завершена\n",
            "LLM API response: {'inference_status': {'runtime_ms': 19331, 'cost': 0.0007275300000000001, 'tokens_generated': 927, 'tokens_input': 1551}, 'results': [{'generated_text': '```\\n\\nHere is the JSON array of foul moments:\\n```\\n[\\n  {\"start_time\": 0, \"end_time\": 10, \"text\": \"Oh, he is fouled hard by Simmons.\"},\\n  {\"start_time\": 20, \"end_time\": 30, \"text\": \"And Booker fouled.\"},\\n  {\"start_time\": 40, \"end_time\": 50, \"text\": \"Ariza with a bit of physicality and I wonder if they\\'ll take a look at this as Giannis will be hoisted up in the foul on Trevor Ariza\"},\\n  {\"start_time\": 60, \"end_time\": 70, \"text\": \"a hard foul by Morris\"},\\n  {\"start_time\": 80, \"end_time\": 90, \"text\": \"Simmons with a foul Covington.\"},\\n  {\"start_time\": 100, \"end_time\": 110, \"text\": \"Simmons lowers the boom on Wade.\"},\\n  {\"start_time\": 120, \"end_time\": 130, \"text\": \"Look at the blow here by Beverly.\"},\\n  {\"start_time\": 140, \"end_time\": 150, \"text\": \"Mack and Schroeder got tangled up and Schroeder gets up wanting to come back and shelve him back.\"},\\n  {\"start_time\": 160, \"end_time\": 170, \"text\": \"Allen swung at Williams who\\'s going back at him now\"},\\n  {\"start_time\": 180, \"end_time\": 190, \"text\": \"Beal. He is dragged down by Dele Vidova\"},\\n  {\"start_time\": 200, \"end_time\": 210, \"text\": \"Kuzma fouls.\"},\\n  {\"start_time\": 220, \"end_time\": 230, \"text\": \"Westbrook is frustrated right now.\"},\\n  {\"start_time\": 240, \"end_time\": 250, \"text\": \"and that was definitely one of those hard files\"},\\n  {\"start_time\": 260, \"end_time\": 270, \"text\": \"Todd Gibson just throwing an elbow into the back of Chris Paul\"},\\n  {\"start_time\": 280, \"end_time\": 290, \"text\": \"Technical foul called on Blake as he walked.\"},\\n  {\"start_time\": 300, \"end_time\": 310, \"text\": \"Andrew Wiggins just took a shot to the face.\"},\\n  {\"start_time\": 320, \"end_time\": 330, \"text\": \"All day long for Embiid.\"},\\n  {\"start_time\": 340, \"end_time\": 350, \"text\": \"And a foul on Hard.\"},\\n  {\"start_time\": 360, \"end_time\": 370, \"text\": \"Clarkson hit by DeRozan.\"},\\n  {\"start_time\": 380, \"end_time\": 390, \"text\": \"Wall takes a whack.\"},\\n  {\"start_time\": 400, \"end_time\": 410, \"text\": \"James with the smaller McCollum on him, gets past him and is grabbed again, hits the floor hard.\"},\\n  {\"start_time\": 420, \"end_time\": 430, \"text\": \"Bede thinking three maneuvers into the defending Allen, and that\\'s an offensive foul and it\\'s called on Joel Embiid.\"},\\n  {\"start_time\": 440, \"end_time\": 450, \"text\": \"DeRozan, there\\'s an opening.\"},\\n  {\"start_time\": 460, \"end_time\": 470, \"text\": \"Love traveled with it.\"},\\n  {\"start_time\": 480, \"end_time\": 490, \"text\": \"Horford got fouled as he goes crashing to the parquet floor\"},\\n  {\"start_time\": 500, \"end_time\": 510, \"text\": \"Harden looks shaken up, too.\"},\\n  {\"start_time\": 520, \"end_time\": 530, \"text\": \"Patrick Beverley Making sure that play right there.\"},\\n  {\"start_time\": 540, \"end_time\": 550, \"text\": \"Schroeder commits the foul.\"},\\n  {\"start_time\": 560, \"end_time\": 570, \"text\": \"Tempers flaring here in the first quarter with 2.24 to go.\"},\\n  {\"start_time\": 580, \"end_time\": 590, \"text\": \"Ariza and Trey Young starting to have words.\"}\\n]\\n```'}], 'num_tokens': 927, 'num_input_tokens': 1551}\n",
            "🎯 Найдено фолов: 30\n",
            "\n",
            "⚡ Фол #1: 0-10 с\n",
            "📝 Oh, he is fouled hard by Simmons.\n",
            "✅ Кадры фола #1 (0-10с) сохранены в /content/drive/MyDrive/ds_one/foul_1/frames\n",
            "\n",
            "⚡ Фол #2: 20-30 с\n",
            "📝 And Booker fouled.\n",
            "✅ Кадры фола #2 (20-30с) сохранены в /content/drive/MyDrive/ds_one/foul_2/frames\n",
            "\n",
            "⚡ Фол #3: 40-50 с\n",
            "📝 Ariza with a bit of physicality and I wonder if they'll take a look at this as Giannis will be hoisted up in the foul on Trevor Ariza\n",
            "✅ Кадры фола #3 (40-50с) сохранены в /content/drive/MyDrive/ds_one/foul_3/frames\n",
            "\n",
            "⚡ Фол #4: 60-70 с\n",
            "📝 a hard foul by Morris\n",
            "✅ Кадры фола #4 (60-70с) сохранены в /content/drive/MyDrive/ds_one/foul_4/frames\n",
            "\n",
            "⚡ Фол #5: 80-90 с\n",
            "📝 Simmons with a foul Covington.\n",
            "✅ Кадры фола #5 (80-90с) сохранены в /content/drive/MyDrive/ds_one/foul_5/frames\n",
            "\n",
            "⚡ Фол #6: 100-110 с\n",
            "📝 Simmons lowers the boom on Wade.\n",
            "✅ Кадры фола #6 (100-110с) сохранены в /content/drive/MyDrive/ds_one/foul_6/frames\n",
            "\n",
            "⚡ Фол #7: 120-130 с\n",
            "📝 Look at the blow here by Beverly.\n",
            "✅ Кадры фола #7 (120-130с) сохранены в /content/drive/MyDrive/ds_one/foul_7/frames\n",
            "\n",
            "⚡ Фол #8: 140-150 с\n",
            "📝 Mack and Schroeder got tangled up and Schroeder gets up wanting to come back and shelve him back.\n",
            "✅ Кадры фола #8 (140-150с) сохранены в /content/drive/MyDrive/ds_one/foul_8/frames\n",
            "\n",
            "⚡ Фол #9: 160-170 с\n",
            "📝 Allen swung at Williams who's going back at him now\n",
            "✅ Кадры фола #9 (160-170с) сохранены в /content/drive/MyDrive/ds_one/foul_9/frames\n",
            "\n",
            "⚡ Фол #10: 180-190 с\n",
            "📝 Beal. He is dragged down by Dele Vidova\n",
            "✅ Кадры фола #10 (180-190с) сохранены в /content/drive/MyDrive/ds_one/foul_10/frames\n",
            "\n",
            "⚡ Фол #11: 200-210 с\n",
            "📝 Kuzma fouls.\n",
            "✅ Кадры фола #11 (200-210с) сохранены в /content/drive/MyDrive/ds_one/foul_11/frames\n",
            "\n",
            "⚡ Фол #12: 220-230 с\n",
            "📝 Westbrook is frustrated right now.\n",
            "✅ Кадры фола #12 (220-230с) сохранены в /content/drive/MyDrive/ds_one/foul_12/frames\n",
            "\n",
            "⚡ Фол #13: 240-250 с\n",
            "📝 and that was definitely one of those hard files\n",
            "✅ Кадры фола #13 (240-250с) сохранены в /content/drive/MyDrive/ds_one/foul_13/frames\n",
            "\n",
            "⚡ Фол #14: 260-270 с\n",
            "📝 Todd Gibson just throwing an elbow into the back of Chris Paul\n",
            "✅ Кадры фола #14 (260-270с) сохранены в /content/drive/MyDrive/ds_one/foul_14/frames\n",
            "\n",
            "⚡ Фол #15: 280-290 с\n",
            "📝 Technical foul called on Blake as he walked.\n",
            "✅ Кадры фола #15 (280-290с) сохранены в /content/drive/MyDrive/ds_one/foul_15/frames\n",
            "\n",
            "⚡ Фол #16: 300-310 с\n",
            "📝 Andrew Wiggins just took a shot to the face.\n",
            "✅ Кадры фола #16 (300-310с) сохранены в /content/drive/MyDrive/ds_one/foul_16/frames\n",
            "\n",
            "⚡ Фол #17: 320-330 с\n",
            "📝 All day long for Embiid.\n",
            "✅ Кадры фола #17 (320-330с) сохранены в /content/drive/MyDrive/ds_one/foul_17/frames\n",
            "\n",
            "⚡ Фол #18: 340-350 с\n",
            "📝 And a foul on Hard.\n",
            "✅ Кадры фола #18 (340-350с) сохранены в /content/drive/MyDrive/ds_one/foul_18/frames\n",
            "\n",
            "⚡ Фол #19: 360-370 с\n",
            "📝 Clarkson hit by DeRozan.\n",
            "✅ Кадры фола #19 (360-370с) сохранены в /content/drive/MyDrive/ds_one/foul_19/frames\n",
            "\n",
            "⚡ Фол #20: 380-390 с\n",
            "📝 Wall takes a whack.\n",
            "✅ Кадры фола #20 (380-390с) сохранены в /content/drive/MyDrive/ds_one/foul_20/frames\n",
            "\n",
            "⚡ Фол #21: 400-410 с\n",
            "📝 James with the smaller McCollum on him, gets past him and is grabbed again, hits the floor hard.\n",
            "✅ Кадры фола #21 (400-410с) сохранены в /content/drive/MyDrive/ds_one/foul_21/frames\n",
            "\n",
            "⚡ Фол #22: 420-430 с\n",
            "📝 Bede thinking three maneuvers into the defending Allen, and that's an offensive foul and it's called on Joel Embiid.\n",
            "✅ Кадры фола #22 (420-430с) сохранены в /content/drive/MyDrive/ds_one/foul_22/frames\n",
            "\n",
            "⚡ Фол #23: 440-450 с\n",
            "📝 DeRozan, there's an opening.\n",
            "✅ Кадры фола #23 (440-450с) сохранены в /content/drive/MyDrive/ds_one/foul_23/frames\n",
            "\n",
            "⚡ Фол #24: 460-470 с\n",
            "📝 Love traveled with it.\n",
            "✅ Кадры фола #24 (460-470с) сохранены в /content/drive/MyDrive/ds_one/foul_24/frames\n",
            "\n",
            "⚡ Фол #25: 480-490 с\n",
            "📝 Horford got fouled as he goes crashing to the parquet floor\n",
            "✅ Кадры фола #25 (480-490с) сохранены в /content/drive/MyDrive/ds_one/foul_25/frames\n",
            "\n",
            "⚡ Фол #26: 500-510 с\n",
            "📝 Harden looks shaken up, too.\n",
            "✅ Кадры фола #26 (500-510с) сохранены в /content/drive/MyDrive/ds_one/foul_26/frames\n",
            "\n",
            "⚡ Фол #27: 520-530 с\n",
            "📝 Patrick Beverley Making sure that play right there.\n",
            "✅ Кадры фола #27 (520-530с) сохранены в /content/drive/MyDrive/ds_one/foul_27/frames\n",
            "\n",
            "⚡ Фол #28: 540-550 с\n",
            "📝 Schroeder commits the foul.\n",
            "✅ Кадры фола #28 (540-550с) сохранены в /content/drive/MyDrive/ds_one/foul_28/frames\n",
            "\n",
            "⚡ Фол #29: 560-570 с\n",
            "📝 Tempers flaring here in the first quarter with 2.24 to go.\n",
            "✅ Кадры фола #29 (560-570с) сохранены в /content/drive/MyDrive/ds_one/foul_29/frames\n",
            "\n",
            "⚡ Фол #30: 580-590 с\n",
            "📝 Ariza and Trey Young starting to have words.\n",
            "✅ Кадры фола #30 (580-590с) сохранены в /content/drive/MyDrive/ds_one/foul_30/frames\n",
            "\n",
            "✅ Готово! Кадры сохранены в: /content/drive/MyDrive/ds_one\n"
          ]
        }
      ]
    },
    {
      "cell_type": "code",
      "source": [],
      "metadata": {
        "id": "twr6SDxmQc9I"
      },
      "execution_count": null,
      "outputs": []
    },
    {
      "cell_type": "code",
      "source": [],
      "metadata": {
        "id": "WpmvK7EfQc6z"
      },
      "execution_count": null,
      "outputs": []
    },
    {
      "cell_type": "code",
      "source": [],
      "metadata": {
        "id": "3Pi1uCZqQc4c"
      },
      "execution_count": null,
      "outputs": []
    },
    {
      "cell_type": "code",
      "source": [],
      "metadata": {
        "id": "Lv5y_E_vQc15"
      },
      "execution_count": null,
      "outputs": []
    }
  ],
  "metadata": {
    "accelerator": "GPU",
    "colab": {
      "gpuType": "T4",
      "provenance": []
    },
    "kernelspec": {
      "display_name": "Python 3",
      "name": "python3"
    },
    "language_info": {
      "name": "python"
    }
  },
  "nbformat": 4,
  "nbformat_minor": 0
}
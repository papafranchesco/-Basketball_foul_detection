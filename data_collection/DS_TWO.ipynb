{
  "nbformat": 4,
  "nbformat_minor": 0,
  "metadata": {
    "colab": {
      "provenance": []
    },
    "kernelspec": {
      "name": "python3",
      "display_name": "Python 3"
    },
    "language_info": {
      "name": "python"
    }
  },
  "cells": [
    {
      "cell_type": "markdown",
      "source": [
        "## Data Collection\n"
      ],
      "metadata": {
        "id": "KXDzKg1mzZmd"
      }
    },
    {
      "cell_type": "code",
      "execution_count": 1,
      "metadata": {
        "colab": {
          "base_uri": "https://localhost:8080/"
        },
        "id": "FK8BeiTq-JYp",
        "outputId": "be4a417e-5311-4954-ecc1-a82a723f998b"
      },
      "outputs": [
        {
          "output_type": "stream",
          "name": "stdout",
          "text": [
            "\u001b[2K   \u001b[90m━━━━━━━━━━━━━━━━━━━━━━━━━━━━━━━━━━━━━━━━\u001b[0m \u001b[32m731.5/731.5 kB\u001b[0m \u001b[31m8.5 MB/s\u001b[0m eta \u001b[36m0:00:00\u001b[0m\n",
            "\u001b[2K     \u001b[90m━━━━━━━━━━━━━━━━━━━━━━━━━━━━━━━━━━━━━━━\u001b[0m \u001b[32m172.2/172.2 kB\u001b[0m \u001b[31m3.3 MB/s\u001b[0m eta \u001b[36m0:00:00\u001b[0m\n",
            "\u001b[2K     \u001b[90m━━━━━━━━━━━━━━━━━━━━━━━━━━━━━━━━━━━━━━━━\u001b[0m \u001b[32m42.8/42.8 kB\u001b[0m \u001b[31m2.5 MB/s\u001b[0m eta \u001b[36m0:00:00\u001b[0m\n",
            "\u001b[?25h  Preparing metadata (setup.py) ... \u001b[?25l\u001b[?25hdone\n",
            "\u001b[2K   \u001b[90m━━━━━━━━━━━━━━━━━━━━━━━━━━━━━━━━━━━━━━━━\u001b[0m \u001b[32m3.2/3.2 MB\u001b[0m \u001b[31m42.6 MB/s\u001b[0m eta \u001b[36m0:00:00\u001b[0m\n",
            "\u001b[2K   \u001b[90m━━━━━━━━━━━━━━━━━━━━━━━━━━━━━━━━━━━━━━━━\u001b[0m \u001b[32m363.4/363.4 MB\u001b[0m \u001b[31m3.4 MB/s\u001b[0m eta \u001b[36m0:00:00\u001b[0m\n",
            "\u001b[2K   \u001b[90m━━━━━━━━━━━━━━━━━━━━━━━━━━━━━━━━━━━━━━━━\u001b[0m \u001b[32m13.8/13.8 MB\u001b[0m \u001b[31m52.1 MB/s\u001b[0m eta \u001b[36m0:00:00\u001b[0m\n",
            "\u001b[2K   \u001b[90m━━━━━━━━━━━━━━━━━━━━━━━━━━━━━━━━━━━━━━━━\u001b[0m \u001b[32m24.6/24.6 MB\u001b[0m \u001b[31m44.2 MB/s\u001b[0m eta \u001b[36m0:00:00\u001b[0m\n",
            "\u001b[2K   \u001b[90m━━━━━━━━━━━━━━━━━━━━━━━━━━━━━━━━━━━━━━━━\u001b[0m \u001b[32m883.7/883.7 kB\u001b[0m \u001b[31m26.6 MB/s\u001b[0m eta \u001b[36m0:00:00\u001b[0m\n",
            "\u001b[2K   \u001b[90m━━━━━━━━━━━━━━━━━━━━━━━━━━━━━━━━━━━━━━━━\u001b[0m \u001b[32m664.8/664.8 MB\u001b[0m \u001b[31m2.7 MB/s\u001b[0m eta \u001b[36m0:00:00\u001b[0m\n",
            "\u001b[2K   \u001b[90m━━━━━━━━━━━━━━━━━━━━━━━━━━━━━━━━━━━━━━━━\u001b[0m \u001b[32m211.5/211.5 MB\u001b[0m \u001b[31m5.8 MB/s\u001b[0m eta \u001b[36m0:00:00\u001b[0m\n",
            "\u001b[2K   \u001b[90m━━━━━━━━━━━━━━━━━━━━━━━━━━━━━━━━━━━━━━━━\u001b[0m \u001b[32m56.3/56.3 MB\u001b[0m \u001b[31m12.3 MB/s\u001b[0m eta \u001b[36m0:00:00\u001b[0m\n",
            "\u001b[2K   \u001b[90m━━━━━━━━━━━━━━━━━━━━━━━━━━━━━━━━━━━━━━━━\u001b[0m \u001b[32m127.9/127.9 MB\u001b[0m \u001b[31m7.3 MB/s\u001b[0m eta \u001b[36m0:00:00\u001b[0m\n",
            "\u001b[2K   \u001b[90m━━━━━━━━━━━━━━━━━━━━━━━━━━━━━━━━━━━━━━━━\u001b[0m \u001b[32m207.5/207.5 MB\u001b[0m \u001b[31m5.9 MB/s\u001b[0m eta \u001b[36m0:00:00\u001b[0m\n",
            "\u001b[2K   \u001b[90m━━━━━━━━━━━━━━━━━━━━━━━━━━━━━━━━━━━━━━━━\u001b[0m \u001b[32m21.1/21.1 MB\u001b[0m \u001b[31m74.8 MB/s\u001b[0m eta \u001b[36m0:00:00\u001b[0m\n",
            "\u001b[?25h  Building wheel for whisper (setup.py) ... \u001b[?25l\u001b[?25hdone\n"
          ]
        }
      ],
      "source": [
        "!pip install pytubefix -q\n",
        "!pip install yt_dlp ffmpeg-python torch whisper requests nest_asyncio -q\n",
        "!pip install yt-dlp ffmpeg-python pydub requests nest_asyncio -q"
      ]
    },
    {
      "cell_type": "code",
      "source": [
        "import os\n",
        "import sys\n",
        "import json\n",
        "import math\n",
        "import time\n",
        "import re\n",
        "import ffmpeg\n",
        "import requests\n",
        "import yt_dlp\n",
        "from pydub import AudioSegment\n",
        "from IPython.display import clear_output\n",
        "import nest_asyncio\n",
        "from pathlib import Path\n",
        "from typing import List, Dict\n",
        "\n",
        "nest_asyncio.apply()"
      ],
      "metadata": {
        "id": "H4Jb1_W8-KFe"
      },
      "execution_count": 19,
      "outputs": []
    },
    {
      "cell_type": "code",
      "source": [
        "from google.colab import drive\n",
        "drive.mount('/content/drive', force_remount=True)"
      ],
      "metadata": {
        "colab": {
          "base_uri": "https://localhost:8080/"
        },
        "id": "izRvmQwF-KDp",
        "outputId": "d732f2f0-39fa-498c-fc4d-f3de6c1fa14b"
      },
      "execution_count": 20,
      "outputs": [
        {
          "output_type": "stream",
          "name": "stdout",
          "text": [
            "Mounted at /content/drive\n"
          ]
        }
      ]
    },
    {
      "cell_type": "code",
      "source": [
        "# Конфигурация\n",
        "class Config:\n",
        "    DRIVE_PATH = \"/content/drive/MyDrive/meow/DS_TWO/DATA/NBA_BEST_FIGHTS\"\n",
        "    TEMP_DIR = \"/content/temp\"\n",
        "    FRAME_RATE = 18\n",
        "    MAX_AUDIO_SIZE_MB = 5\n",
        "    AUDIO_BITRATE = '128k'\n",
        "    SAMPLE_RATE = 16000\n",
        "    TRANSCRIBE_RETRIES = 2\n",
        "    TRANSCRIBE_TIMEOUT = 120\n",
        "    VIDEO_CODEC = 'libx264'\n",
        "    AUDIO_CODEC = 'aac'\n",
        "    PIX_FMT = 'yuv420p'\n",
        "    VIDEO_EXT = 'mp4'\n",
        "    DEEPINFRA_API_KEY = \"9kScTQSpFJCd6OdxblR8bHjw3iWSPZkV\"\n",
        "    WHISPER_API_URL = \"https://api.deepinfra.com/v1/inference/openai/whisper-large\"\n",
        "    LLM_API_URL = \"https://api.deepinfra.com/v1/inference/meta-llama/Meta-Llama-3-70B-Instruct\"\n",
        "    COOKIES_PATH = \"/content/drive/MyDrive/meow/cookies.txt\"\n",
        "    VIDEO_URL = \"https://youtu.be/nBfcBmmt--M?si=a-LyW-XkSD4nouVj\"\n",
        "\n",
        "    @classmethod\n",
        "    def setup(cls):\n",
        "        os.makedirs(cls.DRIVE_PATH, exist_ok=True)\n",
        "        os.makedirs(cls.TEMP_DIR, exist_ok=True)\n",
        "\n",
        "Config.setup()"
      ],
      "metadata": {
        "id": "HwIHyqGJ-KBT"
      },
      "execution_count": 21,
      "outputs": []
    },
    {
      "cell_type": "code",
      "source": [
        "def convert_to_mp3(input_path: str) -> str:\n",
        "    output_path = Path(input_path).with_suffix(\".mp3\")\n",
        "    (\n",
        "        ffmpeg\n",
        "        .input(input_path)\n",
        "        .output(\n",
        "            str(output_path),\n",
        "            acodec='libmp3lame',\n",
        "            audio_bitrate=Config.AUDIO_BITRATE,\n",
        "            ar=str(Config.SAMPLE_RATE)\n",
        "        )\n",
        "        .overwrite_output()\n",
        "        .run(quiet=True)\n",
        "    )\n",
        "    return str(output_path)"
      ],
      "metadata": {
        "id": "_YHii2IsAEou"
      },
      "execution_count": 22,
      "outputs": []
    },
    {
      "cell_type": "code",
      "source": [
        "def split_audio(input_path: str) -> List[str]:\n",
        "    chunk_size = Config.MAX_AUDIO_SIZE_MB * 1024 * 1024\n",
        "    file_size = os.path.getsize(input_path)\n",
        "\n",
        "    if file_size <= chunk_size:\n",
        "        return [input_path]\n",
        "\n",
        "    audio = AudioSegment.from_file(input_path)\n",
        "    duration_ms = len(audio)\n",
        "    chunk_duration_ms = int((chunk_size / file_size) * duration_ms)\n",
        "\n",
        "    chunks = []\n",
        "    for i in range(0, math.ceil(duration_ms / chunk_duration_ms)):\n",
        "        start = i * chunk_duration_ms\n",
        "        end = min((i+1) * chunk_duration_ms, duration_ms)\n",
        "        chunk = audio[start:end]\n",
        "        chunk_path = Path(input_path).with_name(f\"{Path(input_path).stem}_part{i}.mp3\")\n",
        "        chunk.export(chunk_path, format=\"mp3\", bitrate=Config.AUDIO_BITRATE)\n",
        "        chunks.append(str(chunk_path))\n",
        "    return chunks"
      ],
      "metadata": {
        "id": "cP_ciF74AEm5"
      },
      "execution_count": 23,
      "outputs": []
    },
    {
      "cell_type": "code",
      "source": [
        "def transcribe_chunk(chunk_path: str) -> str:\n",
        "    headers = {\"Authorization\": f\"Bearer {Config.DEEPINFRA_API_KEY}\"}\n",
        "    for attempt in range(Config.TRANSCRIBE_RETRIES):\n",
        "        try:\n",
        "            with open(chunk_path, \"rb\") as f:\n",
        "                response = requests.post(\n",
        "                    Config.WHISPER_API_URL,\n",
        "                    headers=headers,\n",
        "                    files={\"audio\": f},\n",
        "                    timeout=Config.TRANSCRIBE_TIMEOUT)\n",
        "            if response.status_code == 200:\n",
        "                return response.json().get(\"text\", \"\")\n",
        "            else:\n",
        "                print(f\"Ошибка транскрибации: {response.status_code}\")\n",
        "                return \"\"\n",
        "        except requests.exceptions.ReadTimeout:\n",
        "            print(f\"⏱ Таймаут. Повтор {attempt+1}/{Config.TRANSCRIBE_RETRIES}\")\n",
        "            if attempt < Config.TRANSCRIBE_RETRIES - 1:\n",
        "                time.sleep(5)\n",
        "                continue\n",
        "            else:\n",
        "                print(\"❌ Превышено количество попыток.\")\n",
        "                return \"\"\n",
        "        except Exception as e:\n",
        "            print(f\"❌ Ошибка: {e}\")\n",
        "            return \"\"\n",
        "    return \"\""
      ],
      "metadata": {
        "id": "6LDenNvLAEk0"
      },
      "execution_count": 24,
      "outputs": []
    },
    {
      "cell_type": "code",
      "source": [
        "def transcribe_audio(audio_path: str) -> str:\n",
        "    mp3_path = convert_to_mp3(audio_path)\n",
        "    chunks = split_audio(mp3_path)\n",
        "    full_text_list = []\n",
        "    for i, chunk_path in enumerate(chunks, 1):\n",
        "        print(f\"🔊 Транскрибируем фрагмент {i}/{len(chunks)}\")\n",
        "        text = transcribe_chunk(chunk_path)\n",
        "        full_text_list.append(text)\n",
        "        os.remove(chunk_path)\n",
        "    return \" \".join(full_text_list)"
      ],
      "metadata": {
        "id": "RmRSejCzAEiv"
      },
      "execution_count": 25,
      "outputs": []
    },
    {
      "cell_type": "code",
      "source": [
        "def extract_json_array(text: str) -> List[Dict]:\n",
        "    # Удаляем блоки кода, ограниченные ```...```\n",
        "    text_no_code = re.sub(r'```.*?```', '', text, flags=re.DOTALL)\n",
        "    start_idx = text_no_code.find('[')\n",
        "    end_idx = text_no_code.rfind(']')\n",
        "    if start_idx == -1 or end_idx == -1 or start_idx > end_idx:\n",
        "        raise ValueError(\"Не найден JSON-массив\")\n",
        "    array_str = text_no_code[start_idx:end_idx+1].strip()\n",
        "    return json.loads(array_str)\n",
        "\n",
        "def process_transcription(full_text: str) -> List[Dict]:\n",
        "    prompt = f\"\"\"\n",
        "Analyze the basketball match transcript and extract foul moments. Return JSON array with objects containing:\n",
        "  \"start_time\": start in seconds,\n",
        "  \"end_time\": end in seconds,\n",
        "  \"text\": foul description.\n",
        "\n",
        "Transcript:\n",
        "{full_text}\n",
        "\"\"\"\n",
        "    headers = {\n",
        "        \"Authorization\": f\"Bearer {Config.DEEPINFRA_API_KEY}\",\n",
        "        \"Content-Type\": \"application/json\"\n",
        "    }\n",
        "    payload = {\n",
        "        \"model\": \"meta-llama/Meta-Llama-3-70B-Instruct\",\n",
        "        \"input\": prompt,\n",
        "        \"temperature\": 0.3,\n",
        "        \"max_tokens\": 2000\n",
        "    }\n",
        "    response = requests.post(Config.LLM_API_URL, headers=headers, json=payload)\n",
        "    if response.status_code != 200:\n",
        "        print(f\"Ошибка LLM: {response.status_code}\")\n",
        "        return []\n",
        "    try:\n",
        "        data = response.json()\n",
        "        result = data.get(\"results\", [{}])[0].get(\"generated_text\", \"\")\n",
        "        return extract_json_array(result)\n",
        "    except Exception as e:\n",
        "        print(f\"Ошибка парсинга: {e}\")\n",
        "        return []\n"
      ],
      "metadata": {
        "id": "YPYvf27mAEgZ"
      },
      "execution_count": 26,
      "outputs": []
    },
    {
      "cell_type": "code",
      "source": [
        "def download_video(url: str) -> str:\n",
        "    print(\"🔄 Скачиваем видео...\")\n",
        "    ydl_opts = {\n",
        "        'format': 'bestvideo+bestaudio/best',\n",
        "        'outtmpl': os.path.join(Config.TEMP_DIR, '%(title)s.%(ext)s'),\n",
        "        'merge_output_format': 'mp4',\n",
        "        'quiet': True,\n",
        "    }\n",
        "    if os.path.exists(Config.COOKIES_PATH):\n",
        "        ydl_opts['cookies'] = Config.COOKIES_PATH\n",
        "    else:\n",
        "        print(\"⚠ Файл cookies не найден\")\n",
        "    try:\n",
        "        with yt_dlp.YoutubeDL(ydl_opts) as ydl:\n",
        "            info = ydl.extract_info(url, download=True)\n",
        "            return ydl.prepare_filename(info)\n",
        "    except Exception as e:\n",
        "        print(f\"❌ Ошибка скачивания: {e}\")\n",
        "        sys.exit(1)"
      ],
      "metadata": {
        "id": "8iUAfO_XAEeU"
      },
      "execution_count": 27,
      "outputs": []
    },
    {
      "cell_type": "code",
      "source": [
        "def extract_audio(video_path: str) -> str:\n",
        "    audio_path = Path(video_path).with_suffix('.wav')\n",
        "    (\n",
        "        ffmpeg\n",
        "        .input(video_path)\n",
        "        .output(str(audio_path), acodec='pcm_s16le', ac=1, ar=Config.SAMPLE_RATE)\n",
        "        .overwrite_output()\n",
        "        .run(quiet=True)\n",
        "    )\n",
        "    return str(audio_path)"
      ],
      "metadata": {
        "id": "MCz_f8tiAEb-"
      },
      "execution_count": 28,
      "outputs": []
    },
    {
      "cell_type": "code",
      "source": [
        "def extract_frames_segment(video_path: str, start: float, end: float, idx: int):\n",
        "    foul_dir = Path(Config.DRIVE_PATH) / f\"foul_{idx}\"\n",
        "    video_dir = foul_dir / \"video\"\n",
        "    frames_dir = foul_dir / \"frames\"\n",
        "\n",
        "    video_dir.mkdir(parents=True, exist_ok=True)\n",
        "    frames_dir.mkdir(parents=True, exist_ok=True)\n",
        "\n",
        "    video_file = video_dir / f\"foul_{idx}.{Config.VIDEO_EXT}\"\n",
        "    metadata_file = video_dir / \"metadata.json\"\n",
        "\n",
        "    try:\n",
        "        # Сохраняем видео\n",
        "        (\n",
        "            ffmpeg\n",
        "            .input(video_path, ss=start, to=end)\n",
        "            .output(\n",
        "                str(video_file),\n",
        "                vcodec=Config.VIDEO_CODEC,\n",
        "                acodec=Config.AUDIO_CODEC,\n",
        "                pix_fmt=Config.PIX_FMT,\n",
        "                **{'vsync': 'vfr', 'movflags': 'faststart'}\n",
        "            )\n",
        "            .overwrite_output()\n",
        "            .run(quiet=True)\n",
        "        )\n",
        "\n",
        "        # Метаданные\n",
        "        metadata = {\n",
        "            \"foul_id\": idx,\n",
        "            \"original_video\": Path(video_path).name,\n",
        "            \"start_time\": start,\n",
        "            \"end_time\": end,\n",
        "            \"frames_dir\": str(frames_dir.relative_to(foul_dir)),\n",
        "            \"video_path\": str(video_file.relative_to(foul_dir))\n",
        "        }\n",
        "        with open(metadata_file, 'w') as f:\n",
        "            json.dump(metadata, f, indent=2)\n",
        "\n",
        "        # Извлекаем кадры\n",
        "        (\n",
        "            ffmpeg\n",
        "            .input(str(video_file))\n",
        "            .output(\n",
        "                str(frames_dir / \"frame_%04d.jpg\"),\n",
        "                r=Config.FRAME_RATE,\n",
        "                **{'qscale:v': '2'}\n",
        "            )\n",
        "            .overwrite_output()\n",
        "            .run(quiet=True)\n",
        "        )\n",
        "\n",
        "        print(f\"✅ Фол #{idx} сохранен\")\n",
        "        print(f\"Видео: {video_file}\")\n",
        "        print(f\"Кадры: {len(list(frames_dir.glob('*.jpg')))} шт\\n\")\n",
        "\n",
        "    except ffmpeg.Error as e:\n",
        "        print(f\"❌ Ошибка обработки фола #{idx}: {e.stderr.decode()}\")"
      ],
      "metadata": {
        "id": "i6x8glUOAEZo"
      },
      "execution_count": 29,
      "outputs": []
    },
    {
      "cell_type": "code",
      "source": [
        "def process_video(url: str):\n",
        "    clear_output()\n",
        "    print(\"🚀 Начало обработки...\")\n",
        "    try:\n",
        "        # 1. Скачивание\n",
        "        video_path = download_video(url)\n",
        "        print(f\"✅ Видео: {Path(video_path).name}\")\n",
        "\n",
        "        # 2. Аудио\n",
        "        audio_path = extract_audio(video_path)\n",
        "        print(\"✅ Аудио извлечено\")\n",
        "\n",
        "        # 3. Транскрибация\n",
        "        full_text = transcribe_audio(audio_path)\n",
        "        os.remove(audio_path)\n",
        "        print(\"✅ Текст расшифрован\")\n",
        "\n",
        "        # 4. Анализ фолов\n",
        "        fouls = process_transcription(full_text)\n",
        "        print(f\"🎯 Найдено фолов: {len(fouls)}\")\n",
        "\n",
        "        # 5. Обработка сегментов\n",
        "        for i, foul in enumerate(fouls, start=1):\n",
        "            start = foul.get(\"start_time\", 0)\n",
        "            end = foul.get(\"end_time\", 0)\n",
        "            text = foul.get(\"text\", \"\")\n",
        "\n",
        "            print(f\"\\n⚡ Фол #{i}: {start}-{end}с\")\n",
        "            print(f\"📝 {text[:100]}...\")\n",
        "            extract_frames_segment(video_path, start, end, i)\n",
        "\n",
        "        # Удаление исходного видео\n",
        "        os.remove(video_path)\n",
        "        print(f\"\\n✅ Все данные сохранены в: {Config.DRIVE_PATH}\")\n",
        "\n",
        "    except Exception as e:\n",
        "        print(f\"🔥 Критическая ошибка: {e}\")\n",
        "        sys.exit(1)"
      ],
      "metadata": {
        "id": "BckZir_xAEXl"
      },
      "execution_count": 30,
      "outputs": []
    },
    {
      "cell_type": "code",
      "source": [
        "if __name__ == \"__main__\":\n",
        "    process_video(Config.VIDEO_URL)"
      ],
      "metadata": {
        "colab": {
          "base_uri": "https://localhost:8080/"
        },
        "id": "SE4X2du1-J--",
        "outputId": "d619dfcf-961f-4892-f830-46d50951ad60"
      },
      "execution_count": 31,
      "outputs": [
        {
          "output_type": "stream",
          "name": "stdout",
          "text": [
            "🚀 Начало обработки...\n",
            "🔄 Скачиваем видео...\n",
            "✅ Видео: NBA BEST Fights, MOST Heated Moments, Ejections of 2024-25 Season!.mp4\n",
            "✅ Аудио извлечено\n",
            "🔊 Транскрибируем фрагмент 1/4\n",
            "🔊 Транскрибируем фрагмент 2/4\n",
            "🔊 Транскрибируем фрагмент 3/4\n",
            "🔊 Транскрибируем фрагмент 4/4\n",
            "✅ Текст расшифрован\n",
            "🎯 Найдено фолов: 15\n",
            "\n",
            "⚡ Фол #1: 0-30с\n",
            "📝 Sohan and McDaniels getting tied up, a scuffle for the second straight night, no one's leaving the b...\n",
            "✅ Фол #1 сохранен\n",
            "Видео: /content/drive/MyDrive/meow/DS_TWO/DATA/NBA_BEST_FIGHTS/foul_1/video/foul_1.mp4\n",
            "Кадры: 542 шт\n",
            "\n",
            "\n",
            "⚡ Фол #2: 30-60с\n",
            "📝 Both Sohan and McDaniels engage in dead ball contact. When McDaniels grabs Sohan's jersey and then S...\n",
            "✅ Фол #2 сохранен\n",
            "Видео: /content/drive/MyDrive/meow/DS_TWO/DATA/NBA_BEST_FIGHTS/foul_2/video/foul_2.mp4\n",
            "Кадры: 542 шт\n",
            "\n",
            "\n",
            "⚡ Фол #3: 120-150с\n",
            "📝 Westbrook, we are reviewing the play to see if it meets the criteria for flagrant foul. And then we'...\n",
            "✅ Фол #3 сохранен\n",
            "Видео: /content/drive/MyDrive/meow/DS_TWO/DATA/NBA_BEST_FIGHTS/foul_3/video/foul_3.mp4\n",
            "Кадры: 542 шт\n",
            "\n",
            "\n",
            "⚡ Фол #4: 180-210с\n",
            "📝 Fred Van Fleet was just thrown out of the game. Uh-oh. Fred has got to be careful. Hopefully he didn...\n",
            "✅ Фол #4 сохранен\n",
            "Видео: /content/drive/MyDrive/meow/DS_TWO/DATA/NBA_BEST_FIGHTS/foul_4/video/foul_4.mp4\n",
            "Кадры: 542 шт\n",
            "\n",
            "\n",
            "⚡ Фол #5: 240-270с\n",
            "📝 Dylan Brooks ties up Gilgis Alexander. Here's Williams. Here come both teams. Here comes Rocket Secu...\n",
            "✅ Фол #5 сохранен\n",
            "Видео: /content/drive/MyDrive/meow/DS_TWO/DATA/NBA_BEST_FIGHTS/foul_5/video/foul_5.mp4\n",
            "Кадры: 542 шт\n",
            "\n",
            "\n",
            "⚡ Фол #6: 300-330с\n",
            "📝 Jeff Green's laughing. Here's look. Look at this, man. I've been in the weight room. You haven't. I'...\n",
            "✅ Фол #6 сохранен\n",
            "Видео: /content/drive/MyDrive/meow/DS_TWO/DATA/NBA_BEST_FIGHTS/foul_6/video/foul_6.mp4\n",
            "Кадры: 542 шт\n",
            "\n",
            "\n",
            "⚡ Фол #7: 360-390с\n",
            "📝 There's nothing there. There's smiles. There's nothing there. There's no unsporting acts on the play...\n",
            "✅ Фол #7 сохранен\n",
            "Видео: /content/drive/MyDrive/meow/DS_TWO/DATA/NBA_BEST_FIGHTS/foul_7/video/foul_7.mp4\n",
            "Кадры: 542 шт\n",
            "\n",
            "\n",
            "⚡ Фол #8: 420-450с\n",
            "📝 Daley Terry is on Isaiah Stewart giving up lots of strength and you see the battle between them and ...\n",
            "✅ Фол #8 сохранен\n",
            "Видео: /content/drive/MyDrive/meow/DS_TWO/DATA/NBA_BEST_FIGHTS/foul_8/video/foul_8.mp4\n",
            "Кадры: 542 шт\n",
            "\n",
            "\n",
            "⚡ Фол #9: 480-510с\n",
            "📝 Chris Paul. Boy, he and D'Lo. Chris Paul. First of all, did he throw an elbow or a shoulder at D'Lo ...\n",
            "✅ Фол #9 сохранен\n",
            "Видео: /content/drive/MyDrive/meow/DS_TWO/DATA/NBA_BEST_FIGHTS/foul_9/video/foul_9.mp4\n",
            "Кадры: 542 шт\n",
            "\n",
            "\n",
            "⚡ Фол #10: 540-570с\n",
            "📝 Ben Simmons, his first dunk of the season. Brandon. A little shoulder-to-shoulder shove right there....\n",
            "✅ Фол #10 сохранен\n",
            "Видео: /content/drive/MyDrive/meow/DS_TWO/DATA/NBA_BEST_FIGHTS/foul_10/video/foul_10.mp4\n",
            "Кадры: 542 шт\n",
            "\n",
            "\n",
            "⚡ Фол #11: 600-630с\n",
            "📝 Mo Wagner looks like he's kind of digging the contact. Oh, come on. Let him. Let him do it....\n",
            "✅ Фол #11 сохранен\n",
            "Видео: /content/drive/MyDrive/meow/DS_TWO/DATA/NBA_BEST_FIGHTS/foul_11/video/foul_11.mp4\n",
            "Кадры: 542 шт\n",
            "\n",
            "\n",
            "⚡ Фол #12: 660-690с\n",
            "📝 Clowney. That is just a brutal swing right there. Great defensive play and Mike Brown is furious....\n",
            "✅ Фол #12 сохранен\n",
            "Видео: /content/drive/MyDrive/meow/DS_TWO/DATA/NBA_BEST_FIGHTS/foul_12/video/foul_12.mp4\n",
            "Кадры: 542 шт\n",
            "\n",
            "\n",
            "⚡ Фол #13: 720-750с\n",
            "📝 Giannis catches the lob over the top and this is you know situation we should just almost concede th...\n",
            "✅ Фол #13 сохранен\n",
            "Видео: /content/drive/MyDrive/meow/DS_TWO/DATA/NBA_BEST_FIGHTS/foul_13/video/foul_13.mp4\n",
            "Кадры: 542 шт\n",
            "\n",
            "\n",
            "⚡ Фол #14: 780-810с\n",
            "📝 Simmons is trying to take the ball from Black. And Capers is trying to break it up. And now Suggs ge...\n",
            "✅ Фол #14 сохранен\n",
            "Видео: /content/drive/MyDrive/meow/DS_TWO/DATA/NBA_BEST_FIGHTS/foul_14/video/foul_14.mp4\n",
            "Кадры: 542 шт\n",
            "\n",
            "\n",
            "⚡ Фол #15: 840-870с\n",
            "📝 Zach Ewing. The stare. Look at this. Oh, you at the stare. Look at the. Oh, you see the little elbow...\n",
            "✅ Фол #15 сохранен\n",
            "Видео: /content/drive/MyDrive/meow/DS_TWO/DATA/NBA_BEST_FIGHTS/foul_15/video/foul_15.mp4\n",
            "Кадры: 542 шт\n",
            "\n",
            "\n",
            "✅ Все данные сохранены в: /content/drive/MyDrive/meow/DS_TWO/DATA/NBA_BEST_FIGHTS\n"
          ]
        }
      ]
    },
    {
      "cell_type": "code",
      "source": [],
      "metadata": {
        "id": "3wQRGD8C-eHD"
      },
      "execution_count": null,
      "outputs": []
    }
  ]
}